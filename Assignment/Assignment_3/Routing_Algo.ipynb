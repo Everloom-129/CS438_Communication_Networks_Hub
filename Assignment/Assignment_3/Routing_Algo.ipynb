{
 "cells": [
  {
   "cell_type": "code",
   "execution_count": 3,
   "metadata": {},
   "outputs": [
    {
     "name": "stdout",
     "output_type": "stream",
     "text": [
      "QZX\n"
     ]
    }
   ],
   "source": [
    "from collections import defaultdict, deque\n",
    "\n",
    "def create_graph(alphabet, words):\n",
    "    graph = {char: set() for char in alphabet}\n",
    "    for i in range(len(words) - 1):\n",
    "        word1, word2 = words[i], words[i+1]\n",
    "        for char1, char2 in zip(word1, word2):\n",
    "            if char1 != char2:\n",
    "                graph[char1].add(char2)\n",
    "                break\n",
    "    return graph\n",
    "\n",
    "def topological_sort(graph):\n",
    "    visited = set()\n",
    "    sorted_chars = deque()\n",
    "    \n",
    "    def visit(char):\n",
    "        if char not in visited:\n",
    "            visited.add(char)\n",
    "            for neighbor in graph[char]:\n",
    "                visit(neighbor)\n",
    "            sorted_chars.appendleft(char)\n",
    "            \n",
    "    for char in graph:\n",
    "        visit(char)\n",
    "        \n",
    "    return ''.join(sorted_chars)\n",
    "\n",
    "def find_lexicographic_order(alphabet, words):\n",
    "    graph = create_graph(alphabet, words)\n",
    "    return topological_sort(graph)\n",
    "\n",
    "alphabet = {'Q', 'X', 'Z'}\n",
    "words = ['QQZ', 'QZZ', 'XQZ', 'XQX', 'XXX']\n",
    "\n",
    "'''\n",
    "\n",
    "alphabet = {'Q', 'X', 'Z','A'}\n",
    "words = ['AQQZ', 'QZAZ', 'XAQZ', 'XQAX', 'AXXX','AAXX']\n",
    "'''\n",
    "order = find_lexicographic_order(alphabet, words)\n",
    "print(order)\n"
   ]
  },
  {
   "cell_type": "code",
   "execution_count": 4,
   "metadata": {},
   "outputs": [],
   "source": [
    "from collections import defaultdict\n",
    "\n",
    "def topological_sort(graph):\n",
    "    visited = set()\n",
    "    sorted_nodes = []\n",
    "    \n",
    "    def visit(node):\n",
    "        if node not in visited:\n",
    "            visited.add(node)\n",
    "            for neighbor in graph[node]:\n",
    "                visit(neighbor)\n",
    "            sorted_nodes.append(node)\n",
    "            \n",
    "    for node in graph:\n",
    "        visit(node)\n",
    "        \n",
    "    return list(reversed(sorted_nodes))\n",
    "\n",
    "def shortest_path(graph, weights, s, t):\n",
    "    sorted_nodes = topological_sort(graph)\n",
    "    dist = {node: float('inf') for node in graph}\n",
    "    dist[s] = 0\n",
    "    \n",
    "    for node in sorted_nodes:\n",
    "        for neighbor in graph[node]:\n",
    "            new_dist = dist[node] + weights[node][neighbor]\n",
    "            if new_dist < dist[neighbor]:\n",
    "                dist[neighbor] = new_dist\n",
    "                \n",
    "    return dist[t]\n"
   ]
  },
  {
   "cell_type": "code",
   "execution_count": 5,
   "metadata": {},
   "outputs": [],
   "source": [
    "def longest_path(graph, weights, s, t):\n",
    "    negated_weights = {node: {neighbor: -weight for neighbor, weight in neighbors.items()} for node, neighbors in weights.items()}\n",
    "    return -shortest_path(graph, negated_weights, s, t)\n"
   ]
  },
  {
   "cell_type": "code",
   "execution_count": 6,
   "metadata": {},
   "outputs": [
    {
     "name": "stdout",
     "output_type": "stream",
     "text": [
      "Shortest path: 6\n",
      "Longest path: 9\n"
     ]
    }
   ],
   "source": [
    "graph = {\n",
    "    'A': ['B', 'C'],\n",
    "    'B': ['D'],\n",
    "    'C': ['D', 'E'],\n",
    "    'D': ['F'],\n",
    "    'E': ['F'],\n",
    "    'F': []\n",
    "}\n",
    "\n",
    "weights = {\n",
    "    'A': {'B': 3, 'C': 2},\n",
    "    'B': {'D': 4},\n",
    "    'C': {'D': 3, 'E': 1},\n",
    "    'D': {'F': 2},\n",
    "    'E': {'F': 3},\n",
    "    'F': {}\n",
    "}\n",
    "\n",
    "s, t = 'A', 'F'\n",
    "shortest = shortest_path(graph, weights, s, t)\n",
    "longest = longest_path(graph, weights, s, t)\n",
    "\n",
    "print(\"Shortest path:\", shortest)\n",
    "print(\"Longest path:\", longest)\n"
   ]
  },
  {
   "cell_type": "code",
   "execution_count": null,
   "metadata": {},
   "outputs": [],
   "source": [
    "def dijkstra(graph, start):\n",
    "    n = len(graph)\n",
    "    dist = [float('inf')] * n\n",
    "    dist[start] = 0\n",
    "    visited = [False] * n\n",
    "\n",
    "    for _ in range(n):\n",
    "        min_dist = float('inf')\n",
    "        current_node = -1\n",
    "\n",
    "        # Find the unvisited node with the smallest distance\n",
    "        for i in range(n):\n",
    "            if not visited[i] and dist[i] < min_dist:\n",
    "                min_dist = dist[i]\n",
    "                current_node = i\n",
    "\n",
    "        # Mark the selected node as visited\n",
    "        visited[current_node] = True\n",
    "\n",
    "        # Update the distances of adjacent nodes\n",
    "        for neighbor, weight in enumerate(graph[current_node]):\n",
    "            if weight > 0 and not visited[neighbor]:\n",
    "                new_dist = dist[current_node] + weight\n",
    "                dist[neighbor] = min(dist[neighbor], new_dist)\n",
    "\n",
    "    return dist\n"
   ]
  }
 ],
 "metadata": {
  "kernelspec": {
   "display_name": "base",
   "language": "python",
   "name": "python3"
  },
  "language_info": {
   "codemirror_mode": {
    "name": "ipython",
    "version": 3
   },
   "file_extension": ".py",
   "mimetype": "text/x-python",
   "name": "python",
   "nbconvert_exporter": "python",
   "pygments_lexer": "ipython3",
   "version": "3.9.12"
  },
  "orig_nbformat": 4
 },
 "nbformat": 4,
 "nbformat_minor": 2
}
