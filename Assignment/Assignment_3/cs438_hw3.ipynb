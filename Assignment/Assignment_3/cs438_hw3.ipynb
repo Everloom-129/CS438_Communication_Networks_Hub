{
 "cells": [
  {
   "cell_type": "code",
   "execution_count": 6,
   "metadata": {},
   "outputs": [
    {
     "name": "stdout",
     "output_type": "stream",
     "text": [
      "now start alpha ==  0.7\n",
      "a1 is  0.5003989613314881\n",
      "now start alpha ==  0.5\n",
      "Premature, loop times is  15\n",
      "a2 is  0.5000076293945312\n",
      "now start alpha ==  0.95\n",
      "a3 is  0.679242961204271\n"
     ]
    }
   ],
   "source": [
    "import numpy as np\n",
    "def RTT_compute(k,alpha,RTT_mesaure):\n",
    "    print(\"now start alpha == \",alpha)\n",
    "    RTT_0 = 1\n",
    "    RTT = RTT_0\n",
    "    for _ in range(k):\n",
    "        RTT = alpha*RTT + (1-alpha)*RTT_mesaure\n",
    "        if np.abs( RTT - RTT_mesaure) < 0.00001:\n",
    "            print(\"Premature, loop times is \",_)\n",
    "            break\n",
    "    return(RTT)\n",
    "\n",
    "a1 = RTT_compute(20,0.7,0.5)\n",
    "print(\"a1 is \",a1)\n",
    "a2 = RTT_compute(20,0.5,0.5)\n",
    "print(\"a2 is \",a2)\n",
    "a3 = RTT_compute(20,0.95,0.5)\n",
    "print(\"a3 is \",a3)\n"
   ]
  }
 ],
 "metadata": {
  "kernelspec": {
   "display_name": "base",
   "language": "python",
   "name": "python3"
  },
  "language_info": {
   "codemirror_mode": {
    "name": "ipython",
    "version": 3
   },
   "file_extension": ".py",
   "mimetype": "text/x-python",
   "name": "python",
   "nbconvert_exporter": "python",
   "pygments_lexer": "ipython3",
   "version": "3.9.12"
  },
  "orig_nbformat": 4
 },
 "nbformat": 4,
 "nbformat_minor": 2
}
