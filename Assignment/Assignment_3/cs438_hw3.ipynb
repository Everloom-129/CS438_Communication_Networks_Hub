{
 "cells": [
  {
   "cell_type": "code",
   "execution_count": 2,
   "metadata": {},
   "outputs": [
    {
     "name": "stdout",
     "output_type": "stream",
     "text": [
      "now start alpha ==  0.7\n",
      "a1 is  0.5003989613314881\n",
      "now start alpha ==  0.5\n",
      "Premature, loop times is  15\n",
      "a2 is  0.5000076293945312\n",
      "now start alpha ==  0.95\n",
      "a3 is  0.679242961204271\n"
     ]
    }
   ],
   "source": [
    "import numpy as np\n",
    "def RTT_compute(k,alpha,RTT_mesaure):\n",
    "    print(\"now start alpha == \",alpha)\n",
    "    RTT_0 = 1\n",
    "    RTT = RTT_0\n",
    "    for _ in range(k):\n",
    "        RTT = alpha*RTT + (1-alpha)*RTT_mesaure\n",
    "        if np.abs( RTT - RTT_mesaure) < 0.00001:\n",
    "            print(\"Premature, loop times is \",_)\n",
    "            break\n",
    "    return(RTT)\n",
    "\n",
    "a1 = RTT_compute(20,0.7,0.5)\n",
    "print(\"a1 is \",a1)\n",
    "a2 = RTT_compute(20,0.5,0.5)\n",
    "print(\"a2 is \",a2)\n",
    "a3 = RTT_compute(20,0.95,0.5)\n",
    "print(\"a3 is \",a3)\n"
   ]
  },
  {
   "cell_type": "code",
   "execution_count": 3,
   "metadata": {},
   "outputs": [],
   "source": [
    "import networkx as nx\n",
    "import matplotlib.pyplot as plt"
   ]
  },
  {
   "cell_type": "code",
   "execution_count": 5,
   "metadata": {},
   "outputs": [
    {
     "data": {
      "image/png": "[encoded data removed]",
      "text/plain": [
       "<Figure size 432x288 with 1 Axes>"
      ]
     },
     "metadata": {},
     "output_type": "display_data"
    }
   ],
   "source": [
    "# Define the list of vertices and their corresponding edge weights\n",
    "# Example: [('A', 'B', 3), ('B', 'C', 4), ('A', 'C', 5)]    \n",
    "edges = [('A', 'B', 12), ('B', 'C', 9), ('B','D',1),('B','G','10'),('A', 'C', 8),\n",
    "         ('C','D',3),('C','E',6),('D','E',4),('D','G',4),('D','F',3),\n",
    "         ('E','F',3),('G','F',2)]\n",
    "\n",
    "# Create an undirected graph\n",
    "G = nx.Graph()\n",
    "\n",
    "# Add edges to the graph with their weights\n",
    "G.add_weighted_edges_from(edges)\n",
    "\n",
    "# Visualize the graph\n",
    "pos = nx.spring_layout(G)\n",
    "nx.draw(G, pos, with_labels=True)\n",
    "labels = nx.get_edge_attributes(G, 'weight')\n",
    "nx.draw_networkx_edge_labels(G, pos, edge_labels=labels)\n",
    "plt.show()\n",
    "\n",
    "\n",
    "# Find the shortest path tree from node E to all other nodes using Dijkstra's algorithm\n",
    "\n",
    "# shortest_paths = nx.single_source_dijkstra_path(G, 'E')\n",
    "# shortest_path_lengths = nx.single_source_dijkstra_path_length(G, 'E')\n",
    "\n",
    "# print(\"Shortest paths from node E:\")\n",
    "# for node, path in shortest_paths.items():\n",
    "#     print(f\"{node}: {path}\")\n",
    "\n",
    "# print(\"\\nShortest path lengths from node E:\")\n",
    "# for node, length in shortest_path_lengths.items():\n",
    "#     print(f\"{node}: {length}\")\n"
   ]
  },
  {
   "cell_type": "code",
   "execution_count": 14,
   "metadata": {},
   "outputs": [
    {
     "ename": "TypeError",
     "evalue": "unsupported operand type(s) for +: 'int' and 'str'",
     "output_type": "error",
     "traceback": [
      "\u001b[1;31m---------------------------------------------------------------------------\u001b[0m",
      "\u001b[1;31mTypeError\u001b[0m                                 Traceback (most recent call last)",
      "\u001b[1;32md:\\#Courses Folder\\##大三\\SP23\\CS438_Hub\\Assignment\\Assignment_3\\cs438_hw3.ipynb Cell 4\u001b[0m in \u001b[0;36m<cell line: 54>\u001b[1;34m()\u001b[0m\n\u001b[0;32m     <a href='vscode-notebook-cell:/d%3A/%23Courses%20Folder/%23%23%E5%A4%A7%E4%B8%89/SP23/CS438_Hub/Assignment/Assignment_3/cs438_hw3.ipynb#W3sZmlsZQ%3D%3D?line=50'>51</a>\u001b[0m nodes_of_interest \u001b[39m=\u001b[39m [\u001b[39m'\u001b[39m\u001b[39mB\u001b[39m\u001b[39m'\u001b[39m, \u001b[39m'\u001b[39m\u001b[39mD\u001b[39m\u001b[39m'\u001b[39m, \u001b[39m'\u001b[39m\u001b[39mE\u001b[39m\u001b[39m'\u001b[39m]\n\u001b[0;32m     <a href='vscode-notebook-cell:/d%3A/%23Courses%20Folder/%23%23%E5%A4%A7%E4%B8%89/SP23/CS438_Hub/Assignment/Assignment_3/cs438_hw3.ipynb#W3sZmlsZQ%3D%3D?line=51'>52</a>\u001b[0m nodes_of_interest_all \u001b[39m=\u001b[39m \u001b[39m'\u001b[39m\u001b[39mA B C D E F G\u001b[39m\u001b[39m'\u001b[39m\u001b[39m.\u001b[39msplit(\u001b[39m'\u001b[39m\u001b[39m \u001b[39m\u001b[39m'\u001b[39m)\n\u001b[1;32m---> <a href='vscode-notebook-cell:/d%3A/%23Courses%20Folder/%23%23%E5%A4%A7%E4%B8%89/SP23/CS438_Hub/Assignment/Assignment_3/cs438_hw3.ipynb#W3sZmlsZQ%3D%3D?line=53'>54</a>\u001b[0m routing_tables \u001b[39m=\u001b[39m distance_vector_algorithm(G, edges, nodes_of_interest_all)\n\u001b[0;32m     <a href='vscode-notebook-cell:/d%3A/%23Courses%20Folder/%23%23%E5%A4%A7%E4%B8%89/SP23/CS438_Hub/Assignment/Assignment_3/cs438_hw3.ipynb#W3sZmlsZQ%3D%3D?line=55'>56</a>\u001b[0m \u001b[39mfor\u001b[39;00m node, table \u001b[39min\u001b[39;00m routing_tables\u001b[39m.\u001b[39mitems():\n\u001b[0;32m     <a href='vscode-notebook-cell:/d%3A/%23Courses%20Folder/%23%23%E5%A4%A7%E4%B8%89/SP23/CS438_Hub/Assignment/Assignment_3/cs438_hw3.ipynb#W3sZmlsZQ%3D%3D?line=56'>57</a>\u001b[0m     \u001b[39mprint\u001b[39m(\u001b[39mf\u001b[39m\u001b[39m\"\u001b[39m\u001b[39mRouting table for \u001b[39m\u001b[39m{\u001b[39;00mnode\u001b[39m}\u001b[39;00m\u001b[39m:\u001b[39m\u001b[39m\"\u001b[39m)\n",
      "\u001b[1;32md:\\#Courses Folder\\##大三\\SP23\\CS438_Hub\\Assignment\\Assignment_3\\cs438_hw3.ipynb Cell 4\u001b[0m in \u001b[0;36mdistance_vector_algorithm\u001b[1;34m(graph, edges, nodes)\u001b[0m\n\u001b[0;32m     <a href='vscode-notebook-cell:/d%3A/%23Courses%20Folder/%23%23%E5%A4%A7%E4%B8%89/SP23/CS438_Hub/Assignment/Assignment_3/cs438_hw3.ipynb#W3sZmlsZQ%3D%3D?line=39'>40</a>\u001b[0m \u001b[39mdef\u001b[39;00m \u001b[39mdistance_vector_algorithm\u001b[39m(graph, edges, nodes):\n\u001b[0;32m     <a href='vscode-notebook-cell:/d%3A/%23Courses%20Folder/%23%23%E5%A4%A7%E4%B8%89/SP23/CS438_Hub/Assignment/Assignment_3/cs438_hw3.ipynb#W3sZmlsZQ%3D%3D?line=40'>41</a>\u001b[0m     routing_table \u001b[39m=\u001b[39m initialize_routing_table(graph, edges, nodes)\n\u001b[1;32m---> <a href='vscode-notebook-cell:/d%3A/%23Courses%20Folder/%23%23%E5%A4%A7%E4%B8%89/SP23/CS438_Hub/Assignment/Assignment_3/cs438_hw3.ipynb#W3sZmlsZQ%3D%3D?line=41'>42</a>\u001b[0m     \u001b[39mwhile\u001b[39;00m update_routing_table(graph, routing_table, nodes):\n\u001b[0;32m     <a href='vscode-notebook-cell:/d%3A/%23Courses%20Folder/%23%23%E5%A4%A7%E4%B8%89/SP23/CS438_Hub/Assignment/Assignment_3/cs438_hw3.ipynb#W3sZmlsZQ%3D%3D?line=42'>43</a>\u001b[0m         \u001b[39mpass\u001b[39;00m\n\u001b[0;32m     <a href='vscode-notebook-cell:/d%3A/%23Courses%20Folder/%23%23%E5%A4%A7%E4%B8%89/SP23/CS438_Hub/Assignment/Assignment_3/cs438_hw3.ipynb#W3sZmlsZQ%3D%3D?line=43'>44</a>\u001b[0m     \u001b[39mreturn\u001b[39;00m routing_table\n",
      "\u001b[1;32md:\\#Courses Folder\\##大三\\SP23\\CS438_Hub\\Assignment\\Assignment_3\\cs438_hw3.ipynb Cell 4\u001b[0m in \u001b[0;36mupdate_routing_table\u001b[1;34m(graph, routing_table, nodes)\u001b[0m\n\u001b[0;32m     <a href='vscode-notebook-cell:/d%3A/%23Courses%20Folder/%23%23%E5%A4%A7%E4%B8%89/SP23/CS438_Hub/Assignment/Assignment_3/cs438_hw3.ipynb#W3sZmlsZQ%3D%3D?line=31'>32</a>\u001b[0m \u001b[39mif\u001b[39;00m dest \u001b[39min\u001b[39;00m routing_table[node2]:\n\u001b[0;32m     <a href='vscode-notebook-cell:/d%3A/%23Courses%20Folder/%23%23%E5%A4%A7%E4%B8%89/SP23/CS438_Hub/Assignment/Assignment_3/cs438_hw3.ipynb#W3sZmlsZQ%3D%3D?line=32'>33</a>\u001b[0m     \u001b[39mcontinue\u001b[39;00m\n\u001b[1;32m---> <a href='vscode-notebook-cell:/d%3A/%23Courses%20Folder/%23%23%E5%A4%A7%E4%B8%89/SP23/CS438_Hub/Assignment/Assignment_3/cs438_hw3.ipynb#W3sZmlsZQ%3D%3D?line=33'>34</a>\u001b[0m new_distance \u001b[39m=\u001b[39m routing_table[node1][node2][\u001b[39m'\u001b[39;49m\u001b[39mdistance\u001b[39;49m\u001b[39m'\u001b[39;49m] \u001b[39m+\u001b[39;49m route_info[\u001b[39m'\u001b[39;49m\u001b[39mdistance\u001b[39;49m\u001b[39m'\u001b[39;49m]\n\u001b[0;32m     <a href='vscode-notebook-cell:/d%3A/%23Courses%20Folder/%23%23%E5%A4%A7%E4%B8%89/SP23/CS438_Hub/Assignment/Assignment_3/cs438_hw3.ipynb#W3sZmlsZQ%3D%3D?line=34'>35</a>\u001b[0m \u001b[39mif\u001b[39;00m dest \u001b[39mnot\u001b[39;00m \u001b[39min\u001b[39;00m routing_table[node2] \u001b[39mor\u001b[39;00m new_distance \u001b[39m<\u001b[39m routing_table[node2][dest][\u001b[39m'\u001b[39m\u001b[39mdistance\u001b[39m\u001b[39m'\u001b[39m]:\n\u001b[0;32m     <a href='vscode-notebook-cell:/d%3A/%23Courses%20Folder/%23%23%E5%A4%A7%E4%B8%89/SP23/CS438_Hub/Assignment/Assignment_3/cs438_hw3.ipynb#W3sZmlsZQ%3D%3D?line=35'>36</a>\u001b[0m     routing_table[node2][dest] \u001b[39m=\u001b[39m {\u001b[39m'\u001b[39m\u001b[39mdistance\u001b[39m\u001b[39m'\u001b[39m: new_distance, \u001b[39m'\u001b[39m\u001b[39mnext_hop\u001b[39m\u001b[39m'\u001b[39m: routing_table[node2][node1][\u001b[39m'\u001b[39m\u001b[39mnext_hop\u001b[39m\u001b[39m'\u001b[39m]}\n",
      "\u001b[1;31mTypeError\u001b[0m: unsupported operand type(s) for +: 'int' and 'str'"
     ]
    }
   ],
   "source": [
    "from collections import defaultdict\n",
    "from itertools import combinations\n",
    "\n",
    "def initialize_routing_table(graph, edges, nodes):\n",
    "    routing_table = defaultdict(dict)\n",
    "    for node in nodes:\n",
    "        for edge in edges:\n",
    "            if node == edge[0]:\n",
    "                routing_table[node][edge[1]] = {'distance': edge[2], 'next_hop': edge[1]}\n",
    "            elif node == edge[1]:\n",
    "                routing_table[node][edge[0]] = {'distance': edge[2], 'next_hop': edge[0]}\n",
    "    return routing_table\n",
    "# Ver 1\n",
    "# def update_routing_table(graph, routing_table, nodes):\n",
    "#     updated = False\n",
    "#     for node1, node2 in combinations(nodes, 2):\n",
    "#         for dest, route_info in routing_table[node1].items():\n",
    "#             if dest in routing_table[node2]:\n",
    "#                 continue\n",
    "#             new_distance = routing_table[node1][node2]['distance'] + route_info['distance']\n",
    "#             if dest not in routing_table[node2] or new_distance < routing_table[node2][dest]['distance']:\n",
    "#                 routing_table[node2][dest] = {'distance': new_distance, 'next_hop': routing_table[node2][node1]['next_hop']}\n",
    "#                 updated = True\n",
    "#     return updated\n",
    "\n",
    "def update_routing_table(graph, routing_table, nodes):\n",
    "    updated = False\n",
    "    for node1, node2 in combinations(nodes, 2):\n",
    "        if node2 not in routing_table[node1] or node1 not in routing_table[node2]:\n",
    "            continue\n",
    "        for dest, route_info in routing_table[node1].items():\n",
    "            if dest in routing_table[node2]:\n",
    "                continue\n",
    "            new_distance = routing_table[node1][node2]['distance'] + route_info['distance']\n",
    "            if dest not in routing_table[node2] or new_distance < routing_table[node2][dest]['distance']:\n",
    "                routing_table[node2][dest] = {'distance': new_distance, 'next_hop': routing_table[node2][node1]['next_hop']}\n",
    "                updated = True\n",
    "    return updated\n",
    "\n",
    "def distance_vector_algorithm(graph, edges, nodes):\n",
    "    routing_table = initialize_routing_table(graph, edges, nodes)\n",
    "    while update_routing_table(graph, routing_table, nodes):\n",
    "        pass\n",
    "    return routing_table\n",
    "\n",
    "\n",
    "\n",
    "G = nx.Graph()\n",
    "G.add_weighted_edges_from(edges)\n",
    "\n",
    "nodes_of_interest = ['B', 'D', 'E']\n",
    "nodes_of_interest_all = 'A B C D E F G'.split(' ')\n",
    "\n",
    "routing_tables = distance_vector_algorithm(G, edges, nodes_of_interest_all)\n",
    "\n",
    "for node, table in routing_tables.items():\n",
    "    print(f\"Routing table for {node}:\")\n",
    "    print(\"Destination | Distance | Next Hop\")\n",
    "    for dest, info in table.items():\n",
    "        print(f\"    {dest}     |    {info['distance']}    |    {info['next_hop']}\")\n",
    "    print()\n"
   ]
  },
  {
   "cell_type": "code",
   "execution_count": 13,
   "metadata": {},
   "outputs": [
    {
     "data": {
      "text/plain": [
       "['A', 'B', 'C', 'D', 'E', 'F', 'G']"
      ]
     },
     "execution_count": 13,
     "metadata": {},
     "output_type": "execute_result"
    }
   ],
   "source": [
    "nodes_of_interest_all = 'A B C D E F G'.split(' ')\n",
    "nodes_of_interest_all = ['A', 'B', 'C', 'D', 'E', 'F', 'G']"
   ]
  },
  {
   "cell_type": "code",
   "execution_count": null,
   "metadata": {},
   "outputs": [],
   "source": []
  }
 ],
 "metadata": {
  "kernelspec": {
   "display_name": "base",
   "language": "python",
   "name": "python3"
  },
  "language_info": {
   "codemirror_mode": {
    "name": "ipython",
    "version": 3
   },
   "file_extension": ".py",
   "mimetype": "text/x-python",
   "name": "python",
   "nbconvert_exporter": "python",
   "pygments_lexer": "ipython3",
   "version": "3.9.12"
  },
  "orig_nbformat": 4
 },
 "nbformat": 4,
 "nbformat_minor": 2
}
