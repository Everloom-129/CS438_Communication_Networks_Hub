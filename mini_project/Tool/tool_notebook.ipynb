{
 "cells": [
  {
   "attachments": {},
   "cell_type": "markdown",
   "metadata": {},
   "source": [
    "# Tool Construction Notebook\n",
    "\n",
    "Jie Wang, Coworked with GPT-4\n",
    "\n",
    "04/18/2023\n"
   ]
  },
  {
   "cell_type": "code",
   "execution_count": null,
   "metadata": {},
   "outputs": [],
   "source": []
  },
  {
   "attachments": {},
   "cell_type": "markdown",
   "metadata": {},
   "source": [
    "To create a Wi-Fi network heatmap of the CS_Building, you can follow this high-level architecture:\n",
    "\n",
    "Data Collection\n",
    "Data Preprocessing\n",
    "Heatmap Generation\n",
    "Visualization\n",
    "1. Data Collection\n",
    "Use a Wi-Fi and LTE Analyzer App like Wi-Fi Analyzer (Android) or Airport Utility (iOS) to gather signal strength, network performance, and other relevant parameters.\n",
    "While collecting data, ensure that you note down the (x, y) coordinates of the locations within the CS_Building floor plan.\n",
    "2. Data Preprocessing\n",
    "Libraries: pandas, numpy\n",
    "Process the collected data and convert it into a structured format (e.g., CSV file).\n",
    "Read the CSV file using pandas and preprocess the data. Remove any outliers, fill missing values, and normalize the signal strength values if necessary.\n",
    "3. Heatmap Generation\n",
    "Libraries: scipy, numpy, matplotlib\n",
    "Use the spatial data (coordinates) and signal strength data to interpolate the Wi-Fi signal strength across the entire floor plan.\n",
    "You can use interpolation methods such as Inverse Distance Weighting (IDW) or Radial Basis Function (RBF) available in the scipy library.\n",
    "The interpolated data will then be used to generate a heatmap.\n",
    "4. Visualization\n",
    "Libraries: matplotlib, seaborn\n",
    "Overlay the heatmap on the CS_Building floor plan using matplotlib and seaborn.\n",
    "Use a color scale to indicate signal strength (e.g., green for strong, yellow for moderate, and red for weak).\n",
    "Highlight any dead zones or areas with high network interference.\n",
    "Save the generated heatmap as an image file (e.g., PNG, JPEG).\n",
    "Open-source Code\n",
    "Use the existing open-source code for heatmap generation and visualization as a starting point.\n",
    "You can find examples and tutorials on GitHub, Stack Overflow, or other online resources.\n",
    "Make sure to adapt the code to suit your specific data format and requirements.\n",
    "Once you have set up the project architecture, you can start implementing the individual components and fine-tune them based on your collected data and desired heatmap output."
   ]
  },
  {
   "cell_type": "code",
   "execution_count": 4,
   "metadata": {},
   "outputs": [
    {
     "name": "stdout",
     "output_type": "stream",
     "text": [
      "Collecting pywifi\n",
      "  Downloading pywifi-1.1.12-py3-none-any.whl (15 kB)\n",
      "Installing collected packages: pywifi\n",
      "Successfully installed pywifi-1.1.12\n"
     ]
    }
   ],
   "source": [
    "!python -m pip install pywifi\n"
   ]
  },
  {
   "cell_type": "code",
   "execution_count": 9,
   "metadata": {},
   "outputs": [
    {
     "name": "stdout",
     "output_type": "stream",
     "text": [
      "start finding wifi connection\n",
      "[<pywifi.iface.Interface object at 0x0000025026378760>]\n",
      "No Wi-Fi interface with name 'eduroam' found.\n"
     ]
    },
    {
     "ename": "SystemExit",
     "evalue": "1",
     "output_type": "error",
     "traceback": [
      "An exception has occurred, use %tb to see the full traceback.\n",
      "\u001b[1;31mSystemExit\u001b[0m\u001b[1;31m:\u001b[0m 1\n"
     ]
    }
   ],
   "source": [
    "\n",
    "import data_collection, importlib\n",
    "importlib.reload(data_collection)\n",
    "\n",
    "data_collection.data_collection_main('eduroam')"
   ]
  },
  {
   "attachments": {},
   "cell_type": "markdown",
   "metadata": {},
   "source": [
    "## data_collection.py\n",
    "This script will display the SSID, BSSID, and signal strength of nearby Wi-Fi networks in real-time. You can modify the script to record the (x, y) coordinates and timestamp of the location where the data is collected, and save the data in a structured format (e.g., CSV file).\n",
    "\n",
    "Note: This script requires root privileges to run, and you need to replace the interface variable with your Wi-Fi interface name (e.g., \"wlan0\" or \"en0\"). To find the correct interface name, you can run the iwconfig command on Linux or ifconfig command on macOS.\n",
    "\n",
    "Please keep in mind that this script is for educational purposes only. Make sure you have the necessary permissions to collect Wi-Fi data in your environment."
   ]
  },
  {
   "attachments": {},
   "cell_type": "markdown",
   "metadata": {},
   "source": [
    "Unfortunately, Scapy does not provide an easy way to capture wireless packets on Windows. The main reason is that Windows does not provide native support for monitor mode, which is necessary to capture Wi-Fi packets using Scapy. However, you can use an alternative Python library called 'pywifi' to scan nearby Wi-Fi networks and get the signal strength. Note that 'pywifi' does not provide as much detailed information as Scapy, and the signal strength value may not be as accurate.\n",
    "\n",
    "First, install 'pywifi' library:\n",
    "\n",
    "This script will display the SSID, BSSID, and signal strength of nearby Wi-Fi networks in real-time. You can modify the script to record the (x, y) coordinates and timestamp of the location where the data is collected and save the data in a structured format (e.g., CSV file).\n",
    "\n",
    "You can run the script as a regular user without administrator privileges. However, you may need to enable Wi-Fi scanning in the Wi-Fi settings of your Windows machine for the script to work correctly. Additionally, you need to replace the interface_name variable with your Wi-Fi interface name (e.g., \"Wi-Fi\" or \"Wireless Network Connection\")."
   ]
  },
  {
   "cell_type": "code",
   "execution_count": null,
   "metadata": {},
   "outputs": [],
   "source": []
  },
  {
   "attachments": {},
   "cell_type": "markdown",
   "metadata": {},
   "source": [
    "## Data Preprocessing\n",
    "This script reads the collected data from a CSV file, removes duplicate rows and rows with missing values, filters out outliers in the 'signal_strength' column, normalizes the 'signal_strength' values to a range of [0, 1], and saves the preprocessed data to a new CSV file.\n",
    "\n",
    "You can modify the script based on your specific data format and preprocessing requirements."
   ]
  },
  {
   "cell_type": "markdown",
   "metadata": {},
   "source": []
  },
  {
   "attachments": {},
   "cell_type": "markdown",
   "metadata": {},
   "source": [
    "## Heatmap Generation\n",
    "\n",
    "This script reads the preprocessed data from a CSV file, generates a grid of points for the entire floor plan, interpolates the Wi-Fi signal strength using the Radial Basis Function (RBF) method, saves the heatmap as a numpy array, and plots the heatmap using matplotlib.\n",
    "\n",
    "You can adjust the dimensions of the floor plan, resolution, and interpolation method based on your specific requirements. Note that the floor plan dimensions and resolution should match the scale of your (x, y) coordinates."
   ]
  },
  {
   "attachments": {},
   "cell_type": "markdown",
   "metadata": {},
   "source": [
    "## Visualization\n",
    "This script loads the heatmap numpy array and the CS_Building floor plan image, overlays the heatmap on the floor plan using an RGBA colormap with an alpha channel for transparency, adds a colorbar and labels, saves the visualization as an image file, and shows the visualization using matplotlib.\n",
    "\n",
    "You need to replace the floorplan_image variable with the path to your CS_Building floor plan image file (e.g., \"floorplan.png\"). Make sure the dimensions of the floor plan image match the dimensions of the heatmap. If necessary, you can adjust the colormap, transparency, and other visualization parameters to suit your requirements."
   ]
  }
 ],
 "metadata": {
  "kernelspec": {
   "display_name": "base",
   "language": "python",
   "name": "python3"
  },
  "language_info": {
   "codemirror_mode": {
    "name": "ipython",
    "version": 3
   },
   "file_extension": ".py",
   "mimetype": "text/x-python",
   "name": "python",
   "nbconvert_exporter": "python",
   "pygments_lexer": "ipython3",
   "version": "3.9.12"
  },
  "orig_nbformat": 4
 },
 "nbformat": 4,
 "nbformat_minor": 2
}
