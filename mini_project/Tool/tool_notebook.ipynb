{
 "cells": [
  {
   "attachments": {},
   "cell_type": "markdown",
   "metadata": {},
   "source": [
    "# CS438 Mini-project\n",
    "# Tool Construction Notebook\n",
    "\n",
    "- Jie Wang,\n",
    "- Jiaxin Wu,\n",
    "- Coworked with GPT-4\n",
    "\n",
    "04/18/2023\n"
   ]
  },
  {
   "attachments": {},
   "cell_type": "markdown",
   "metadata": {},
   "source": [
    "Here is a python-based wifi anaylzer tool our group create for research. \n",
    "\n",
    "We compared many different Wi-Fi analyzer App like Netspot and Wifiman, but none of them provide implicit data for further analysis. Meanwhile, the scope and performance of these tools can't come up with our need. \n",
    "\n",
    "Therefore, we set up a series of python program to do datacollection, preprocessing, and heatmap generation.\n"
   ]
  },
  {
   "attachments": {},
   "cell_type": "markdown",
   "metadata": {},
   "source": [
    "`miniproject.zip` has the following content:\n",
    "\n",
    "* `tool_notebook.ipynb`: This is a <a href=\"https://anaconda.org/anaconda/jupyter\">Jupyter</a> notebook to demo the whole working procedure of our tool. \n",
    "\n",
    "* `coordinate_generation.py`: This is the program that load AP_info, generating the necessary coordinate map according to the floor plan of Sibel Center. \n",
    "\n",
    "* `data_collection.py`: This is a program that collect data for 3 times at one test point. \n",
    "\n",
    "* `data_preprocessing.py`: This is a program that preprocesses the raw data \n",
    "\n",
    "* `heatmap.py`: This is a program that visualize the heatmap info\n",
    "\n",
    "* `visualization.py`: This is a program that visualize the heatmap info\n",
    "\n",
    "\n",
    "* `requirements.txt`: This tells you which python packages you need to have installed, in order to run `our tool`.  You can install all of those packages by typing `pip install -r requirements.txt` or `pip3 install -r requirements.txt`."
   ]
  },
  {
   "cell_type": "markdown",
   "metadata": {},
   "source": []
  },
  {
   "attachments": {},
   "cell_type": "markdown",
   "metadata": {},
   "source": [
    "The "
   ]
  },
  {
   "cell_type": "code",
   "execution_count": null,
   "metadata": {},
   "outputs": [],
   "source": []
  },
  {
   "attachments": {},
   "cell_type": "markdown",
   "metadata": {},
   "source": [
    "To create a Wi-Fi network heatmap of the CS_Building, you can follow this high-level architecture:\n",
    "\n",
    "Data Collection\n",
    "Data Preprocessing\n",
    "Heatmap Generation\n",
    "Visualization\n",
    "1. Data Collection\n",
    "Use a Wi-Fi and LTE Analyzer App like Wi-Fi Analyzer (Android) or Airport Utility (iOS) to gather signal strength, network performance, and other relevant parameters.\n",
    "While collecting data, ensure that you note down the (x, y) coordinates of the locations within the CS_Building floor plan.\n",
    "2. Data Preprocessing\n",
    "Libraries: pandas, numpy\n",
    "Process the collected data and convert it into a structured format (e.g., CSV file).\n",
    "Read the CSV file using pandas and preprocess the data. Remove any outliers, fill missing values, and normalize the signal strength values if necessary.\n",
    "3. Heatmap Generation\n",
    "Libraries: scipy, numpy, matplotlib\n",
    "Use the spatial data (coordinates) and signal strength data to interpolate the Wi-Fi signal strength across the entire floor plan.\n",
    "You can use interpolation methods such as Inverse Distance Weighting (IDW) or Radial Basis Function (RBF) available in the scipy library.\n",
    "The interpolated data will then be used to generate a heatmap.\n",
    "4. Visualization\n",
    "Libraries: matplotlib, seaborn\n",
    "Overlay the heatmap on the CS_Building floor plan using matplotlib and seaborn.\n",
    "Use a color scale to indicate signal strength (e.g., green for strong, yellow for moderate, and red for weak).\n",
    "Highlight any dead zones or areas with high network interference.\n",
    "Save the generated heatmap as an image file (e.g., PNG, JPEG).\n",
    "Open-source Code\n",
    "Use the existing open-source code for heatmap generation and visualization as a starting point.\n",
    "You can find examples and tutorials on GitHub, Stack Overflow, or other online resources.\n",
    "Make sure to adapt the code to suit your specific data format and requirements.\n",
    "Once you have set up the project architecture, you can start implementing the individual components and fine-tune them based on your collected data and desired heatmap output."
   ]
  },
  {
   "attachments": {},
   "cell_type": "markdown",
   "metadata": {},
   "source": [
    "## data_collection.py\n",
    "This script will display the SSID, BSSID, and signal strength of nearby Wi-Fi networks in real-time. You can modify the script to record the (x, y) coordinates and timestamp of the location where the data is collected, and save the data in a structured format (e.g., CSV file).\n",
    "\n",
    "Note: This script requires root privileges to run, and you need to replace the interface variable with your Wi-Fi interface name (e.g., \"wlan0\" or \"en0\"). To find the correct interface name, you can run the iwconfig command on Linux or ifconfig command on macOS.\n",
    "\n",
    "Please keep in mind that this script is for educational purposes only. Make sure you have the necessary permissions to collect Wi-Fi data in your environment."
   ]
  },
  {
   "attachments": {},
   "cell_type": "markdown",
   "metadata": {},
   "source": [
    "To collect sufficient data for drawing a heatmap, you should follow these guidelines:\n",
    "\n",
    "1. **Sampling density**: Take multiple samples at various locations to ensure a representative coverage of the area. The more samples you collect, the more accurate your heatmap will be. Ideally, you should collect data at regular intervals, such as every meter or half a meter, depending on the size of the area and the desired resolution of the heatmap.\n",
    "\n",
    "2. **Sampling duration**: To account for fluctuations in signal strength, consider taking multiple measurements at each location over a short period, e.g., 5-10 seconds. Then, calculate the average signal strength for each location to reduce the impact of temporary fluctuations on the heatmap.\n",
    "\n",
    "3. **Sampling strategy**: Choose a systematic sampling strategy to cover the area, such as grid-based sampling or random sampling. For grid-based sampling, collect data points in a grid pattern across the area. For random sampling, collect data points randomly across the area. Either way, ensure that the samples are uniformly distributed to provide a comprehensive view of the Wi-Fi signal strength.\n",
    "\n",
    "4. **Obstacles and environment**: Be aware of obstacles and environmental factors that could impact the Wi-Fi signal strength, such as walls, furniture, and electronic devices. These factors should be considered when collecting data and interpreting the resulting heatmap.\n",
    "\n",
    "5. **Data collection tool**: Ensure that your data collection tool is working correctly, and your device (e.g., laptop, smartphone) is capable of accurately measuring Wi-Fi signal strength. Calibrate your device if necessary.\n",
    "\n",
    "6. **Document your data**: Keep detailed notes on the locations where you collect data, including coordinates (x, y) and any relevant context, such as obstacles, access points, or other environmental factors. This information can be helpful when analyzing the heatmap and identifying areas for improvement.\n",
    "\n",
    "By following these guidelines, you can collect enough data to generate an accurate heatmap of Wi-Fi signal strength in the area."
   ]
  },
  {
   "attachments": {},
   "cell_type": "markdown",
   "metadata": {},
   "source": [
    "Unfortunately, Scapy does not provide an easy way to capture wireless packets on Windows. The main reason is that Windows does not provide native support for monitor mode, which is necessary to capture Wi-Fi packets using Scapy. However, you can use an alternative Python library called 'pywifi' to scan nearby Wi-Fi networks and get the signal strength. Note that 'pywifi' does not provide as much detailed information as Scapy, and the signal strength value may not be as accurate.\n",
    "\n",
    "First, install 'pywifi' library:\n",
    "\n",
    "This script will display the SSID, BSSID, and signal strength of nearby Wi-Fi networks in real-time. You can modify the script to record the (x, y) coordinates and timestamp of the location where the data is collected and save the data in a structured format (e.g., CSV file).\n",
    "\n",
    "You can run the script as a regular user without administrator privileges. However, you may need to enable Wi-Fi scanning in the Wi-Fi settings of your Windows machine for the script to work correctly. Additionally, you need to replace the interface_name variable with your Wi-Fi interface name (e.g., \"Wi-Fi\" or \"Wireless Network Connection\")."
   ]
  },
  {
   "cell_type": "code",
   "execution_count": null,
   "metadata": {},
   "outputs": [],
   "source": []
  },
  {
   "attachments": {},
   "cell_type": "markdown",
   "metadata": {},
   "source": [
    "## Data Preprocessing\n",
    "This script reads the collected data from a CSV file, removes duplicate rows and rows with missing values, filters out outliers in the 'signal_strength' column, normalizes the 'signal_strength' values to a range of [0, 1], and saves the preprocessed data to a new CSV file.\n",
    "\n",
    "You can modify the script based on your specific data format and preprocessing requirements."
   ]
  },
  {
   "cell_type": "markdown",
   "metadata": {},
   "source": []
  },
  {
   "attachments": {},
   "cell_type": "markdown",
   "metadata": {},
   "source": [
    "## Heatmap Generation\n",
    "\n",
    "This script reads the preprocessed data from a CSV file, generates a grid of points for the entire floor plan, interpolates the Wi-Fi signal strength using the Radial Basis Function (RBF) method, saves the heatmap as a numpy array, and plots the heatmap using matplotlib.\n",
    "\n",
    "You can adjust the dimensions of the floor plan, resolution, and interpolation method based on your specific requirements. Note that the floor plan dimensions and resolution should match the scale of your (x, y) coordinates."
   ]
  },
  {
   "attachments": {},
   "cell_type": "markdown",
   "metadata": {},
   "source": [
    "To differentiate between different Access Points (APs) in your heatmap and estimate their locations using multiple measurements, you can follow these high-level steps:\n",
    "\n",
    "1. Collect Wi-Fi data: Gather data from different locations within the area of interest, including SSID, BSSID, signal strength, and device location (latitude and longitude). Make sure you have multiple measurements for each AP.\n",
    "\n",
    "2. Preprocess data: Filter and clean the data. Group the data by BSSID, as each BSSID represents a unique AP.\n",
    "\n",
    "3. Estimate AP locations: For each BSSID, analyze the data to estimate the most probable location of the corresponding AP. You can use a method like trilateration or weighted centroid localization based on the signal strength and device location. The estimation method should consider factors such as signal attenuation due to distance and obstacles.\n",
    "\n",
    "4. Prepare heatmap data: Once you have estimated the locations of the APs, create separate heatmap datasets for each AP. These datasets should contain the signal strength measurements for the respective APs at different device locations.\n",
    "\n",
    "5. Generate heatmaps: Using a visualization library like `matplotlib` and `seaborn`, create individual heatmaps for each AP, overlaying them on the floor plan image. To visually differentiate between APs, you can use different color maps or transparency levels.\n",
    "\n",
    "6. Plot AP locations: Mark the estimated AP locations on the floor plan using suitable markers or symbols. This will help visualize the relative positions of the APs and their signal strength distribution.\n",
    "\n",
    "By following these steps, you can create a heatmap that differentiates between different APs and visualize their signal strength distribution on a floor plan."
   ]
  },
  {
   "attachments": {},
   "cell_type": "markdown",
   "metadata": {},
   "source": [
    "## Visualization\n",
    "This script loads the heatmap numpy array and the CS_Building floor plan image, overlays the heatmap on the floor plan using an RGBA colormap with an alpha channel for transparency, adds a colorbar and labels, saves the visualization as an image file, and shows the visualization using matplotlib.\n",
    "\n",
    "You need to replace the floorplan_image variable with the path to your CS_Building floor plan image file (e.g., \"floorplan.png\"). Make sure the dimensions of the floor plan image match the dimensions of the heatmap. If necessary, you can adjust the colormap, transparency, and other visualization parameters to suit your requirements."
   ]
  }
 ],
 "metadata": {
  "kernelspec": {
   "display_name": "base",
   "language": "python",
   "name": "python3"
  },
  "language_info": {
   "codemirror_mode": {
    "name": "ipython",
    "version": 3
   },
   "file_extension": ".py",
   "mimetype": "text/x-python",
   "name": "python",
   "nbconvert_exporter": "python",
   "pygments_lexer": "ipython3",
   "version": "3.9.12"
  },
  "orig_nbformat": 4
 },
 "nbformat": 4,
 "nbformat_minor": 2
}
